{
 "cells": [
  {
   "cell_type": "markdown",
   "metadata": {},
   "source": [
    "## 1. Doubly Linked Lists and Queue"
   ]
  },
  {
   "cell_type": "markdown",
   "metadata": {},
   "source": [
    "A doubly linked list is a modification of a linked lists where each Node, in addition to a reference to the next Node, stores a reference to the previous Node. To understand how to work with doubly linked lists, consider an example below that constructs a list of three nodes"
   ]
  },
  {
   "cell_type": "code",
   "execution_count": null,
   "metadata": {},
   "outputs": [],
   "source": [
    "class Node:\n",
    "    def __init__(self, init_data): \n",
    "     self.data = init_data \n",
    "     self.next = None \n",
    "     self.previous = None \n",
    "\n",
    "head = Node(4)\n",
    "new_node = Node(6)\n",
    "new_node.next = head\n",
    "head.previous = new_node\n",
    "head = new_node\n",
    "new_node = Node(7)\n",
    "new_node.next = head\n",
    "head.previous = new_node"
   ]
  },
  {
   "cell_type": "markdown",
   "metadata": {},
   "source": [
    "and the Python Tutor illustration of how it works https://goo.gl/xdq86W.\n",
    "\n",
    "Now, use doubly linked lists to implement a Queue (similarly to how we previously used simple linked lists to implement a Stack). Use the pattern below for your implementation. Your implementation must work correctly with our test cases below."
   ]
  },
  {
   "cell_type": "code",
   "execution_count": 4,
   "metadata": {},
   "outputs": [
    {
     "ename": "IndentationError",
     "evalue": "expected an indented block (<ipython-input-4-8dcaafccc474>, line 25)",
     "output_type": "error",
     "traceback": [
      "\u001b[0;36m  File \u001b[0;32m\"<ipython-input-4-8dcaafccc474>\"\u001b[0;36m, line \u001b[0;32m25\u001b[0m\n\u001b[0;31m    def is_empty(self):\u001b[0m\n\u001b[0m      ^\u001b[0m\n\u001b[0;31mIndentationError\u001b[0m\u001b[0;31m:\u001b[0m expected an indented block\n"
     ]
    }
   ],
   "source": [
    "class Node:\n",
    "    def __init__(self, init_data): \n",
    "       self.data = init_data \n",
    "       self.next = None \n",
    "       self.previous = None \n",
    "\n",
    "class Queue:\n",
    "    def __init__(self):\n",
    "        self.front = None\n",
    "        self.back = None\n",
    "    def enqueue(self, x):\n",
    "        #implements this: adds a new Node with x to back, so back points to this node, \n",
    "        #while the previous of the old back's Node must point to the this new node and \n",
    "        #this new Node's next must point to the old back\n",
    "        \n",
    "        newNode = Node(x)\n",
    "        oldNode = self.back\n",
    "        self.back = newNode\n",
    "        \n",
    "        # When there's already something on the queue:\n",
    "        if oldNode !=None:\n",
    "            oldNode.previous = newNode\n",
    "            self.back.next = oldNode\n",
    "        # When the queue is empty\n",
    "        else:\n",
    "            self.front = self.back\n",
    "            \n",
    "        \n",
    "    def dequeue(self):\n",
    "        #implement this: returns the data of the Node pointed to by front and\n",
    "        #makes new front point to the previous of the Node pointed to by old front\n",
    "        retData = self.front.data\n",
    "        self.front = self.front.previous\n",
    "        return retData\n",
    "        \n",
    "    def is_empty(self):\n",
    "        return self.front == None\n",
    "\n",
    "#NO modifications below this line\n",
    "import sys\n",
    "complete_input = sys.stdin.readlines()\n",
    "for line in complete_input: exec(line)"
   ]
  },
  {
   "cell_type": "markdown",
   "metadata": {},
   "source": [
    "## 2. Balanced Parentheses"
   ]
  },
  {
   "cell_type": "markdown",
   "metadata": {},
   "source": [
    "Attempt this problem after you solved the Linked Lists and Stacks problem. Given a string of parentheses of four types, (), [], {} and <>, print True if the parentheses of the string are balanced, otherwise print False. For the examples of balanced and unbalanced strings see the test cases below.\n",
    "\n",
    "Note. Use the implementation of Stack you developed to solve the previous problem. See the lecture notes and slides for the algorithms that can solve this problem using a stack."
   ]
  },
  {
   "cell_type": "code",
   "execution_count": null,
   "metadata": {},
   "outputs": [],
   "source": [
    "class Node:\n",
    "    def __init__(self, init_data):\n",
    "        self.data = init_data\n",
    "        self.next = None\n",
    "\n",
    "class Stack:\n",
    "    def __init__(self):\n",
    "        self.top = None    #top stores a Node\n",
    "    def push(self, x):\n",
    "        #implement this: adds a new Node, makes top point to it\n",
    "        #old top is \"saved in\" the new Node's next\n",
    "        newNode = Node(x)\n",
    "        newNode.next = self.top\n",
    "        self.top = newNode\n",
    "        \n",
    "        \n",
    "    def pop(self):\n",
    "        #implement this: makes top point to the next of the Node pointed to by top\n",
    "        #oldNode = self.top\n",
    "        #self.top = oldNode.next\n",
    "        self.top = self.top.next\n",
    "        \n",
    "        \n",
    "    def peek(self):\n",
    "        #implement this: returns the data of the Node pointed to by top\n",
    "        return self.top.data\n",
    "        \n",
    "    def is_empty(self):\n",
    "        #implement this: returns True if there are no Nodes in\n",
    "        return self.top == None\n",
    "\n",
    "i = input()\n",
    "dic = {\"(\":\")\",\"[\":\"]\",\"<\":\">\",\"{\":\"}\"}\n",
    "\n",
    "s = Stack()\n",
    "\n",
    "for x in range(len(i)):\n",
    "    if i[x] in dic.keys():\n",
    "        s.push(i[x])\n",
    "    else:\n",
    "        if i[x] == dic[s.peek()]:\n",
    "            s.pop()\n",
    "        else:\n",
    "            break\n",
    "\n",
    "if s.is_empty():\n",
    "    print(\"True\")\n",
    "else: \n",
    "    print(\"False\")\n",
    "        "
   ]
  },
  {
   "cell_type": "markdown",
   "metadata": {},
   "source": [
    "## 3. Linked Lists and Stacks"
   ]
  },
  {
   "cell_type": "markdown",
   "metadata": {},
   "source": [
    "Implement a stack using a link list to store the sequence of its elements. Feel free to look into the lecture notes and slides, where the principles of organizing data in a link list are provided. Use the pattern below for your implementation. Your implementation must work correctly with our test cases below."
   ]
  },
  {
   "cell_type": "code",
   "execution_count": null,
   "metadata": {},
   "outputs": [],
   "source": [
    "class Node:\n",
    "    def __init__(self, init_data):\n",
    "        self.data = init_data\n",
    "        self.next = None\n",
    "\n",
    "class Stack:\n",
    "    def __init__(self):\n",
    "        self.top = None    #top stores a Node\n",
    "    def push(self, x):\n",
    "        #implement this: adds a new Node, makes top point to it\n",
    "        #old top is \"saved in\" the new Node's next\n",
    "        newNode = Node(x)\n",
    "        newNode.next = self.top\n",
    "        self.top = newNode\n",
    "        \n",
    "        \n",
    "    def pop(self):\n",
    "        #implement this: makes top point to the next of the Node pointed to by top\n",
    "        #oldNode = self.top\n",
    "        #self.top = oldNode.next\n",
    "        self.top = self.top.next\n",
    "        \n",
    "        \n",
    "    def peek(self):\n",
    "        #implement this: returns the data of the Node pointed to by top\n",
    "        return self.top.data\n",
    "        \n",
    "    def is_empty(self):\n",
    "        #implement this: returns True if there are no Nodes in\n",
    "        return self.top == None\n",
    "\n",
    "#NO modifications below this line\n",
    "import sys\n",
    "complete_input = sys.stdin.readlines()\n",
    "for line in complete_input: exec(line)\n"
   ]
  }
 ],
 "metadata": {
  "kernelspec": {
   "display_name": "Python 3",
   "language": "python",
   "name": "python3"
  },
  "language_info": {
   "codemirror_mode": {
    "name": "ipython",
    "version": 3
   },
   "file_extension": ".py",
   "mimetype": "text/x-python",
   "name": "python",
   "nbconvert_exporter": "python",
   "pygments_lexer": "ipython3",
   "version": "3.7.0"
  }
 },
 "nbformat": 4,
 "nbformat_minor": 2
}
