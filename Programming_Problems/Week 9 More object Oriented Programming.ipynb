{
 "cells": [
  {
   "cell_type": "markdown",
   "metadata": {},
   "source": [
    "# Week 9 Advanced Objected Oriented Programming"
   ]
  },
  {
   "cell_type": "markdown",
   "metadata": {},
   "source": [
    "## 1. Bank Account Classes"
   ]
  },
  {
   "cell_type": "markdown",
   "metadata": {},
   "source": [
    "The following partial (classes) handle information about a person and individual and joint (shared) bank accounts. Complete the implementation of the classes using the pattern below (see lines marked with TD). You classes must correctly support the execution of programs specified in the test cases."
   ]
  },
  {
   "cell_type": "code",
   "execution_count": null,
   "metadata": {},
   "outputs": [],
   "source": [
    "class Person:\n",
    "    '''to handle person's details'''\n",
    "    def __init__(self, fn, ln):\n",
    "        self.first_name = fn\n",
    "        self.last_name = ln\n",
    "        self.address = None #addresses stored by strings\n",
    "    def set_address(self, adr):\n",
    "        self.address = adr #strings\n",
    "\n",
    "class IndividualBankAccount:\n",
    "    '''to handle individual bank account data'''\n",
    "    def __init__(self, sort_code, account_number, owner):\n",
    "        self.sort_code=sort_code\n",
    "        self.account_number = account_number\n",
    "        self.owner = Person(owner.first_name,owner.last_name)\n",
    "        '''TD implement this; creates a bank account\n",
    "        with sort code as string, account number as string,\n",
    "        and owner as Person'''\n",
    "    def set_sort_code(self, sort_code):\n",
    "        '''TD implement this; updates sort code'''\n",
    "        self.sort_code = sort_code\n",
    "    def get_sort_code(self):\n",
    "        '''TD implement this; returns sort code'''\n",
    "        return self.sort_code\n",
    "    def set_account_number(self, account_number):\n",
    "        '''TD implement this; updates account number'''\n",
    "        self.account_number = account_number\n",
    "    def get_account_number(self):\n",
    "        '''TD implement this; returns account number'''\n",
    "        return self.account_number\n",
    "    def get_account_data(self):\n",
    "        '''TD implement this; returns string \"FN LN SC AN\"\n",
    "        where FN and LN are owner's first and last names,\n",
    "        SC is sort code, AN is account number'''\n",
    "        return ('%.2s %.2s %.2s %.2s'%(self.owner.first_name,self.owner.last_name,self.sort_code,self.account_number))\n",
    "\n",
    "class SharedBankAccount:\n",
    "    '''to handle data of an account that has several owners'''\n",
    "    def __init__(self, sort_code, account_number, owners):\n",
    "        self.owners = []\n",
    "        self.sort_code=sort_code\n",
    "        self.account_number = account_number\n",
    "        for i in range(len(owners)):\n",
    "            owner = Person(owners[i].first_name,owners[i].last_name)\n",
    "            self.owners.append(owner)\n",
    "        '''TD implement this; creates a bank account\n",
    "        with sort code as string, account number as string,\n",
    "        and owners as a list of Persons'''\n",
    "    def set_sort_code(self, sort_code):\n",
    "        '''TD implement this; updates sort code'''\n",
    "        self.sort_code = sort_code\n",
    "    def get_sort_code(self):\n",
    "        '''TD implement this; returns sort code'''\n",
    "        return self.sort_code\n",
    "    def set_account_number(self, account_number):\n",
    "        '''TD implement this; updates account number'''\n",
    "        self.account_number = account_number\n",
    "    def get_account_number(self):\n",
    "        '''TD implement this; returns account number'''\n",
    "        return self.account_number\n",
    "    def get_account_data(self):\n",
    "        '''TD implement this; returns string\n",
    "        \"FN1 LN1, FN2 LN2, ..., FNM LNM, SC AN\"\n",
    "        where FNi LNi is the i-th owner first and last names,\n",
    "        SC is sort code, AN is account number'''\n",
    "        self.names = []\n",
    "        for i in range(len(self.owners)):\n",
    "            name = self.owners[i].first_name + \" \"+ self.owners[i].last_name\n",
    "            self.names.append(name)\n",
    "        return (\", \".join(self.names)+\", \"+'%.2s %.2s' %(self.sort_code,self.account_number))\n",
    "#         return ('%.2s %.2s %.2s %.2s'%(self.owner.first_name,self.owner.last_name,self.sort_code,self.account_number))\n",
    "\n",
    "\n",
    "#NO modifications below this line\n",
    "import sys\n",
    "complete_input = sys.stdin.readlines()\n",
    "for line in complete_input: exec(line)\n"
   ]
  },
  {
   "cell_type": "markdown",
   "metadata": {},
   "source": [
    "## 2. Bank Account Classes with Inheritance"
   ]
  },
  {
   "cell_type": "markdown",
   "metadata": {},
   "source": [
    "Assuming that you are starting with this problem after completing the Bank Account Classes problem (which is recommended), you must have noticed that the code in Bank Account Classes is highly redundant (contains large duplications). The purpose of this problem is to refactor that code using inheritance. Complete the implementation of the new classes using the pattern below (see lines marked with TD). You classes must correctly support the execution of programs specified in the test cases."
   ]
  },
  {
   "cell_type": "code",
   "execution_count": null,
   "metadata": {},
   "outputs": [],
   "source": [
    "class Person:\n",
    "    '''to handle person's details'''\n",
    "    def __init__(self, fn, ln):\n",
    "        self.first_name = fn\n",
    "        self.last_name = ln\n",
    "        self.address = None #addresses stored by strings\n",
    "    def set_address(self, adr):\n",
    "        self.address = adr #strings\n",
    "\n",
    "class BankAccount:\n",
    "    def __init__(self, sort_code, account_number):\n",
    "        '''TD implement this; creates a bank account\n",
    "        with sort code as string and account number as string'''\n",
    "    def set_sort_code(self, sort_code):\n",
    "        '''TD implement this; updates sort code'''\n",
    "    def get_sort_code(self):\n",
    "        '''TD implement this; returns sort code'''\n",
    "    def set_account_number(self, account_number):\n",
    "        '''TD implement this; updates account number'''\n",
    "    def get_account_number(self):\n",
    "        '''TD implement this; returns account number'''\n",
    "    def get_account_data(self):\n",
    "        '''TD implement this; returns string \"SC AN\"\n",
    "    where SC is sort code, AN is account number'''\n",
    "\n",
    "class IndividualBankAccount(BankAccount):\n",
    "    def __init__(self, sort_code, account_number, owner):\n",
    "        super().__init__(sort_code, account_number)\n",
    "        '''line above sets up sc and number\n",
    "        TD implement setting up an owner as Person'''\n",
    "    def get_account_data(self):\n",
    "        '''TD implement this; returns string \"FN LN SC AN\"\n",
    "        where FN and LN are owner's first and last names,\n",
    "        SC is sort code, AN is account number'''\n",
    "\n",
    "class SharedBankAccount(BankAccount):\n",
    "    def __init__(self, sort_code, account_number, owners):\n",
    "        super().__init__(sort_code, account_number)\n",
    "        '''line above sets up sc and number\n",
    "    TD implement setting up an owners as a list of Persons'''\n",
    "    def get_account_data(self):\n",
    "        '''TD implement this; returns string\n",
    "        \"FN1 LN1, FN2 LN2, ..., FNM LNM, SC AN\"\n",
    "        where FNi LNi is the i-th owner first and last names,\n",
    "        SC is sort code, AN is account number'''\n",
    "\n",
    "#NO modifications below this line\n",
    "import sys\n",
    "complete_input = sys.stdin.readlines()\n",
    "for line in complete_input: exec(line)"
   ]
  }
 ],
 "metadata": {
  "kernelspec": {
   "display_name": "Python 3",
   "language": "python",
   "name": "python3"
  },
  "language_info": {
   "codemirror_mode": {
    "name": "ipython",
    "version": 3
   },
   "file_extension": ".py",
   "mimetype": "text/x-python",
   "name": "python",
   "nbconvert_exporter": "python",
   "pygments_lexer": "ipython3",
   "version": "3.7.0"
  }
 },
 "nbformat": 4,
 "nbformat_minor": 2
}
