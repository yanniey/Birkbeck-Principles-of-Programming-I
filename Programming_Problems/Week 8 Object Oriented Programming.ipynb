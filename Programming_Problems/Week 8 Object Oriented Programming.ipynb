{
 "cells": [
  {
   "cell_type": "markdown",
   "metadata": {},
   "source": [
    "## Week 8: Object Oriented Programming\n"
   ]
  },
  {
   "cell_type": "markdown",
   "metadata": {},
   "source": [
    "### 1. Circular Sector Class"
   ]
  },
  {
   "cell_type": "markdown",
   "metadata": {},
   "source": [
    "In this exercise, we will work with circular sectors of circles centred at (0,0). Such sectors will be specified by three numbers:\n",
    "\n",
    "* the angle (in degrees between 0 and 359) that the segment starts from (fr)\n",
    "* the angle (in degrees between 0 and 359) that the segment ends (to)\n",
    "* the radius\n",
    "\n",
    "All of the above are integer numbers and the angles are counted from the direction of the positive x axis. \n",
    " \n",
    "Moreover, you may assume that the from angle is always smaller or equal to the to angle (fr <= to). (If you'd like, after you have a working solution, you can solve a more challenging version of this problem when this simplification is removed.)"
   ]
  },
  {
   "cell_type": "code",
   "execution_count": null,
   "metadata": {},
   "outputs": [],
   "source": [
    "class Sector:\n",
    "    def __init__(self):\n",
    "        self.fr = 0\n",
    "        self.to = 0\n",
    "        self.rad = 0\n",
    "        \n",
    "    def rotate(self, angle):\n",
    "        self.fr = self.fr+angle\n",
    "        self.to = self.to + angle\n",
    "        #rotates sector by angle\n",
    "        #you man assume the rotation never results in a sector with fr > to\n",
    "        #(it is optional to solve this problem without this assumption; see above)\n",
    "        \n",
    "    def intersect(self, other):\n",
    "        inter = Sector()\n",
    "        inter.fr = other.fr\n",
    "        inter.to = self.to\n",
    "        inter.rad = min(self.rad,other.rad)\n",
    "        #returns sector (i.e., object of class Sector) that is intersection \n",
    "        #of this and other sector\n",
    "        #you may assume that the two sectors have nonempty intersection\n",
    "    def is_empty(self):\n",
    "        if self.fr == self.to:\n",
    "            return True\n",
    "        else:\n",
    "            return False\n",
    "        #returns True if the sector has empty area, otherwise False\n",
    "        \n",
    "    def __eq__(self, other):\n",
    "        if self.to == other.to and self.fr == other.fr:\n",
    "            return True\n",
    "        else:\n",
    "            return False\n",
    "        #returns True this sector is the same as the other, otherwise False\n",
    "    def __str__(self):\n",
    "        return ('%.2d %.2d %.2d'%(self.fr,self.to,self.rad))\n",
    "        #returns string \"F T R\" where F is from angle, T is to, and R is radius\n",
    "\n",
    "#NO modications below this line\n",
    "s1 = Sector()\n",
    "s1.fr = 0\n",
    "s1.to = 20\n",
    "s1.rad = 40\n",
    "print(s1)\n",
    "s1.rotate(50)\n",
    "print(s1)\n",
    "s2 = Sector()\n",
    "s2.fr = 50\n",
    "s2.to = 80\n",
    "s2.rad = 40\n",
    "print(s1==s2)\n",
    "s2.fr = 60\n",
    "s2.to = 100\n",
    "s2.rad = 30\n",
    "s3 = s1.intersect(s2)\n",
    "print(s3)"
   ]
  },
  {
   "cell_type": "markdown",
   "metadata": {},
   "source": [
    "### 2. Advanced Counter Class"
   ]
  },
  {
   "cell_type": "markdown",
   "metadata": {},
   "source": [
    "In this exercise, we'll create a class modelling a more interesting counter than the one discussed in the lecture. It can keep track of the quantity of each item swiped and the price of a unit. You will understand details as you read through the code below (including the main program).\n",
    "\n",
    "Implement the class according to the following specification. It is probably best to use a dictionary with string keys and list values for the implementation, but such details are up to you."
   ]
  },
  {
   "cell_type": "code",
   "execution_count": 1,
   "metadata": {},
   "outputs": [
    {
     "ename": "SyntaxError",
     "evalue": "invalid syntax (<ipython-input-1-a5ffb6579457>, line 5)",
     "output_type": "error",
     "traceback": [
      "\u001b[0;36m  File \u001b[0;32m\"<ipython-input-1-a5ffb6579457>\"\u001b[0;36m, line \u001b[0;32m5\u001b[0m\n\u001b[0;31m    self._items = #initialize with a value\u001b[0m\n\u001b[0m                                          ^\u001b[0m\n\u001b[0;31mSyntaxError\u001b[0m\u001b[0;31m:\u001b[0m invalid syntax\n"
     ]
    }
   ],
   "source": [
    "class Counter:\n",
    "    def __init__(self, my_id):\n",
    "        #complete the code below;\n",
    "        #id is string;\n",
    "        self._id = my_id\n",
    "        self._items = 0 \n",
    "        self._total = 0\n",
    "        self._itemnames = []\n",
    "    def add(self, item_name, amount, price_of_unit):\n",
    "        self._items += amount\n",
    "        self._total += price_of_unit * amount\n",
    "        self._itemnames.append(item_name)\n",
    "        #item_name is string, amount is integer, price of unit is float\n",
    "        #adds amount of items with item_name and specifies price_of_unit\n",
    "        #you may assume that every addition for the same item_name will set\n",
    "        #the same price_of_unit\n",
    "        #see the examples of use in the code of main program below\n",
    "    def remove(self, item_name, amount):\n",
    "        if item_name in self._itemnames:\n",
    "            if amount >=self._items:\n",
    "                self_items=0\n",
    "            else:\n",
    "                self._items -= amount\n",
    "                self._total-=amount*self.add(item_name,amount,price_of_unit).price_of_unit\n",
    "        else:\n",
    "            pass\n",
    "        \n",
    "        #if the item_name is not among the items previously added, do nothing;\n",
    "        #if the item_name is among them but the amount is greater or equal to the\n",
    "        #number of previously added items with this name, remove the record\n",
    "        #associated with item_name;\n",
    "    def reset(self):\n",
    "        self._items = 0 \n",
    "        self._total = 0\n",
    "        self._itemnames = []\n",
    "        #simply erases info about all the items previously added;\n",
    "        \n",
    "    def get_total(self):\n",
    "        return round(self._total,2)\n",
    "        #returns the float number representing the total price\n",
    "        #of all the items (think of due to pay) rounded to the 2nd fractional digit, \n",
    "        #use standard round(x,2) function\n",
    "    def status_print(self):\n",
    "        print('%.2s %.2s %.2s'%(self._id,self._items, self._total))\n",
    "        #where Id is id of counter, N is total amount of all items and M total price of them\n",
    "        #round M to the 2nd fractional digit as above\n",
    "\n",
    "\n",
    "#NO modifications modify below this line\n",
    "c = Counter(\"C001\")\n",
    "c.add(\"Spaghetti\", 5, 1.8)\n",
    "c.status_print()\n",
    "c.add(\"Ice Cream\", 2, 3.4)\n",
    "c.status_print()\n",
    "print(c.get_total())\n",
    "c.add(\"Spaghetti\", 3, 1.8)\n",
    "c.status_print()\n",
    "c.remove(\"Ice Cream\", 1)\n",
    "c.status_print()\n",
    "c.reset()\n",
    "c.add(\"Coke\", 5, 1.45)\n",
    "c.status_print()"
   ]
  },
  {
   "cell_type": "code",
   "execution_count": null,
   "metadata": {},
   "outputs": [],
   "source": []
  }
 ],
 "metadata": {
  "kernelspec": {
   "display_name": "Python 3",
   "language": "python",
   "name": "python3"
  },
  "language_info": {
   "codemirror_mode": {
    "name": "ipython",
    "version": 3
   },
   "file_extension": ".py",
   "mimetype": "text/x-python",
   "name": "python",
   "nbconvert_exporter": "python",
   "pygments_lexer": "ipython3",
   "version": "3.7.0"
  }
 },
 "nbformat": 4,
 "nbformat_minor": 2
}
