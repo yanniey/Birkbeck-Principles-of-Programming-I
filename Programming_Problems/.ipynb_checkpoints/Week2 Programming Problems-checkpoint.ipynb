{
 "cells": [
  {
   "cell_type": "markdown",
   "metadata": {},
   "source": [
    "# 1. List of Squares "
   ]
  },
  {
   "cell_type": "code",
   "execution_count": null,
   "metadata": {},
   "outputs": [],
   "source": [
    "\n",
    "n =int(input())\n",
    "i=1\n",
    "li=[]\n",
    "while i**2<=n:\n",
    "    li.append(i**2)\n",
    "    i+=1\n",
    "for x in li:\n",
    "    print(x)"
   ]
  },
  {
   "cell_type": "markdown",
   "metadata": {},
   "source": [
    "# 2. Least Divisor <https://snakify.org/en/lessons/while_loop/problems/least_divisor/> (Easy)"
   ]
  },
  {
   "cell_type": "code",
   "execution_count": null,
   "metadata": {},
   "outputs": [],
   "source": [
    "n = int(input())\n",
    "divisor = 2\n",
    "li = []\n",
    "while n>=divisor:\n",
    "    if n%divisor ==0:\n",
    "        li.append(divisor)\n",
    "    divisor +=1\n",
    "print(min(li))"
   ]
  },
  {
   "cell_type": "markdown",
   "metadata": {},
   "source": [
    "# 3. The Power of Two <https://snakify.org/en/lessons/while_loop/problems/powers_of_two/> (Medium)"
   ]
  },
  {
   "cell_type": "code",
   "execution_count": null,
   "metadata": {},
   "outputs": [],
   "source": [
    "\n",
    "n = int(input())\n",
    "x = 0\n",
    "li=[]\n",
    "while pow(2,x)<=n:\n",
    "    x +=1\n",
    "    li.append(x)\n",
    "biggest = max(li)-1\n",
    "print(biggest)\n",
    "print(pow(2,biggest))"
   ]
  },
  {
   "cell_type": "markdown",
   "metadata": {},
   "source": [
    "# 4.Morning Jog <https://snakify.org/en/lessons/while_loop/problems/morning_jog/> (Medium)"
   ]
  },
  {
   "cell_type": "code",
   "execution_count": null,
   "metadata": {},
   "outputs": [],
   "source": [
    "x= int(input())\n",
    "y=int(input())\n",
    "count = 1\n",
    "while x<y:\n",
    "    count+=1\n",
    "    x=x*1.1\n",
    "print(count)"
   ]
  },
  {
   "cell_type": "markdown",
   "metadata": {},
   "source": [
    "# 5. The Length of the Sequenc <https://snakify.org/en/lessons/while_loop/problems/seq_len/> (Easy)"
   ]
  },
  {
   "cell_type": "code",
   "execution_count": null,
   "metadata": {},
   "outputs": [],
   "source": [
    "x= int(input())\n",
    "count = 0\n",
    "while x !=0:\n",
    "    count+=1\n",
    "    x=int(input())\n",
    "print(count)"
   ]
  },
  {
   "cell_type": "markdown",
   "metadata": {},
   "source": [
    "# 6. The Sum of the Sequence <https://snakify.org/en/lessons/while_loop/problems/eq_sum/> (Easy)"
   ]
  },
  {
   "cell_type": "code",
   "execution_count": null,
   "metadata": {},
   "outputs": [],
   "source": [
    "x=int(input())\n",
    "sum= 0\n",
    "while x!=0:\n",
    "    sum+=x\n",
    "    x=int(input())\n",
    "print(sum)"
   ]
  },
  {
   "cell_type": "markdown",
   "metadata": {},
   "source": [
    "# 7. The Average of the Sequence <https://snakify.org/en/lessons/while_loop/problems/seq_avg/> (Easy)"
   ]
  },
  {
   "cell_type": "code",
   "execution_count": null,
   "metadata": {},
   "outputs": [],
   "source": [
    "count =0\n",
    "summ=0\n",
    "x = int(input())\n",
    "while x!=0:\n",
    "    count +=1\n",
    "    summ+=x\n",
    "    x=int(input())\n",
    "print(summ/count)"
   ]
  },
  {
   "cell_type": "markdown",
   "metadata": {},
   "source": [
    "# 8. The Maximum of the Sequence <https://snakify.org/en/lessons/while_loop/problems/seq_max/> (Easy)"
   ]
  },
  {
   "cell_type": "code",
   "execution_count": null,
   "metadata": {},
   "outputs": [],
   "source": [
    "x = int(input())\n",
    "lar = 0\n",
    "while x!=0:\n",
    "    if x>lar:\n",
    "        lar = x\n",
    "    x=int(input())\n",
    "print(lar)"
   ]
  },
  {
   "cell_type": "markdown",
   "metadata": {},
   "source": [
    "# 9. The Index of a Maximum of a Sequence <https://snakify.org/en/lessons/while_loop/problems/seq_index_of_max/> (Medium)"
   ]
  },
  {
   "cell_type": "code",
   "execution_count": null,
   "metadata": {},
   "outputs": [],
   "source": [
    "x=int(input())\n",
    "count = 0\n",
    "li=[]\n",
    "while x!=0:\n",
    "    li.append(x)\n",
    "    x=int(input())\n",
    "print(li.index(max(li))+1)"
   ]
  },
  {
   "cell_type": "markdown",
   "metadata": {},
   "source": [
    "# 10. The Number of Even Elements of a Sequence <https://snakify.org/en/lessons/while_loop/problems/seq_num_even/> (Easy)"
   ]
  },
  {
   "cell_type": "code",
   "execution_count": null,
   "metadata": {},
   "outputs": [],
   "source": [
    "x = int(input())\n",
    "count = 0\n",
    "while x!=0:\n",
    "    if x%2==0:\n",
    "        count+=1\n",
    "    x=int(input())\n",
    "print(count)"
   ]
  },
  {
   "cell_type": "markdown",
   "metadata": {},
   "source": [
    "# 11. The Number of Elements that are Greater than the Previous One <https://snakify.org/en/lessons/while_loop/problems/seq_increasing_neighbours/> (Medium)"
   ]
  },
  {
   "cell_type": "code",
   "execution_count": null,
   "metadata": {},
   "outputs": [],
   "source": [
    "last_number=int(input())\n",
    "last = 0\n",
    "count = 0\n",
    "\n",
    "while last_number!=0:\n",
    "    next = int(input())\n",
    "    if next> last_number and next !=0:\n",
    "        count +=1\n",
    "    last_number = next\n",
    "print(count)"
   ]
  },
  {
   "cell_type": "markdown",
   "metadata": {},
   "source": [
    "# 12. Fibonacci Numbers <https://snakify.org/en/lessons/while_loop/problems/kth_fibonacci/> (Medium)"
   ]
  },
  {
   "cell_type": "code",
   "execution_count": null,
   "metadata": {},
   "outputs": [],
   "source": [
    "n =int(input())\n",
    "first = 0\n",
    "second = 1\n",
    "f_num=0\n",
    "for i in range(0,n-1):\n",
    "    f_num = first + second\n",
    "    first = second\n",
    "    second = f_num\n",
    "\n",
    "if n ==1:\n",
    "    f_num=1\n",
    "\n",
    "print(f_num)"
   ]
  },
  {
   "cell_type": "markdown",
   "metadata": {},
   "source": [
    "# For loops\n",
    "# 13. Series1 <https://snakify.org/en/lessons/for_loop_range/problems/series_1/> (Easy)"
   ]
  },
  {
   "cell_type": "code",
   "execution_count": null,
   "metadata": {},
   "outputs": [],
   "source": [
    "a = int(input())\n",
    "b = int(input())\n",
    "for x in range(a,b+1):\n",
    "    print(x)"
   ]
  },
  {
   "cell_type": "markdown",
   "metadata": {},
   "source": [
    "# 14. Series2 <https://snakify.org/en/lessons/for_loop_range/problems/series_2/> (Easy)"
   ]
  },
  {
   "cell_type": "code",
   "execution_count": null,
   "metadata": {},
   "outputs": [],
   "source": [
    "a = int(input())\n",
    "b = int(input())\n",
    "if a<b:\n",
    "    for i in range(a,b+1):\n",
    "        print(i)\n",
    "else:\n",
    "    for i in reversed(range(b,a+1)):\n",
    "        print(i)"
   ]
  },
  {
   "cell_type": "markdown",
   "metadata": {},
   "source": [
    "# 15. Sum of Ten Numbers <https://snakify.org/en/lessons/for_loop_range/problems/sum_of_ten_numbers/> (Easy)"
   ]
  },
  {
   "cell_type": "code",
   "execution_count": null,
   "metadata": {},
   "outputs": [],
   "source": [
    "su = 0\n",
    "for i in range(0,10):\n",
    "    x=int(input())\n",
    "    su+=x\n",
    "print(su)"
   ]
  },
  {
   "cell_type": "markdown",
   "metadata": {},
   "source": [
    "# 16. Sum of N Numbers <https://snakify.org/en/lessons/for_loop_range/problems/suf_of_n_numbers/> (Easy)"
   ]
  },
  {
   "cell_type": "code",
   "execution_count": null,
   "metadata": {},
   "outputs": [],
   "source": [
    "n = int(input())\n",
    "su=0\n",
    "for x in range(n):\n",
    "    new=int(input())\n",
    "    su+=new\n",
    "print(su)"
   ]
  },
  {
   "cell_type": "markdown",
   "metadata": {},
   "source": [
    "# 17. Factorial <https://snakify.org/en/lessons/for_loop_range/problems/factorial/> (Easy)"
   ]
  },
  {
   "cell_type": "code",
   "execution_count": null,
   "metadata": {},
   "outputs": [],
   "source": [
    "x = int(input())\n",
    "f=1\n",
    "i=1\n",
    "for i in range(1,x+1):\n",
    "   f=f*i\n",
    "print(f)"
   ]
  },
  {
   "cell_type": "markdown",
   "metadata": {},
   "source": [
    "# 18. The Number of Zeros <https://snakify.org/en/lessons/for_loop_range/problems/how_many_zeroes/> (Medium)"
   ]
  },
  {
   "cell_type": "code",
   "execution_count": null,
   "metadata": {},
   "outputs": [],
   "source": [
    "n=int(input())\n",
    "count=0\n",
    "for i in range(0,n):\n",
    "    i=int(input())\n",
    "    if i == 0:\n",
    "        count +=1\n",
    "        \n",
    "        \n",
    "print(count)"
   ]
  },
  {
   "cell_type": "markdown",
   "metadata": {},
   "source": [
    "# 19. Adding Factorials <https://snakify.org/en/lessons/for_loop_range/problems/sum_of_factorials/> (Hard)"
   ]
  },
  {
   "cell_type": "code",
   "execution_count": null,
   "metadata": {},
   "outputs": [],
   "source": [
    "n = int(input())\n",
    "sum = 0\n",
    "\n",
    "def fac(n):\n",
    "    num = 1\n",
    "    for n in range(n,0,-1):\n",
    "        num = num * n\n",
    "    return num\n",
    "\n",
    "for i in range(0,n+1):\n",
    "    sum+=fac(i)\n",
    "\n",
    "print(sum-1)"
   ]
  },
  {
   "cell_type": "markdown",
   "metadata": {},
   "source": [
    "# 20. Ladder <https://snakify.org/en/lessons/for_loop_range/problems/ladder/> (Hard)"
   ]
  },
  {
   "cell_type": "code",
   "execution_count": null,
   "metadata": {},
   "outputs": [],
   "source": [
    "n=int(input())\n",
    "ls=list(range(0,n))\n",
    "line_num=[i+1 for i in ls]\n",
    "\n",
    "for i in line_num:\n",
    "    line = list(range(1,i+1))\n",
    "    print(\"\".join(str(x) for x in line))"
   ]
  },
  {
   "cell_type": "markdown",
   "metadata": {},
   "source": [
    "# 21. Lost Card <https://snakify.org/en/lessons/for_loop_range/problems/lost_card/> (Medium)"
   ]
  },
  {
   "cell_type": "code",
   "execution_count": null,
   "metadata": {},
   "outputs": [],
   "source": [
    "n=int(input())\n",
    "ls=list(range(0,n))\n",
    "ls=[i+1 for i in ls]\n",
    "\n",
    "for i in range(0,len(ls)-1):\n",
    "    j = int(input())\n",
    "    ls.remove(j)\n",
    "print(ls[0])"
   ]
  }
 ],
 "metadata": {
  "kernelspec": {
   "display_name": "Python 3",
   "language": "python",
   "name": "python3"
  },
  "language_info": {
   "codemirror_mode": {
    "name": "ipython",
    "version": 3
   },
   "file_extension": ".py",
   "mimetype": "text/x-python",
   "name": "python",
   "nbconvert_exporter": "python",
   "pygments_lexer": "ipython3",
   "version": "3.7.0"
  }
 },
 "nbformat": 4,
 "nbformat_minor": 2
}
