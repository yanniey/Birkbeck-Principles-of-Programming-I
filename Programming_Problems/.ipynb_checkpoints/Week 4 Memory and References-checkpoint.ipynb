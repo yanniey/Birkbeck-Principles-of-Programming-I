{
 "cells": [
  {
   "cell_type": "markdown",
   "metadata": {},
   "source": [
    "Week 4 Programming Problems on snakify.org"
   ]
  },
  {
   "cell_type": "markdown",
   "metadata": {},
   "source": [
    "# 1. Matrix Maximum Index Function"
   ]
  },
  {
   "cell_type": "code",
   "execution_count": null,
   "metadata": {},
   "outputs": [],
   "source": [
    "l=[]\n",
    "\n",
    "def matrix_max_index(M, m, n):\n",
    "    for i in range(0,m):\n",
    "        for j in range(0,n):\n",
    "            l.append(M[i][j])\n",
    "    maximum = max(l)\n",
    "    # return([(index, row.index(maximum)) for index, row in enumerate(M) if maximum in row])\n",
    "    newlist = [(index, row.index(maximum)) for index, row in enumerate(M) if maximum in row]\n",
    "    return(min(newlist))\n",
    "\n",
    "\n",
    "#code below reads input, calls function, prints output \n",
    "#do not modify it \n",
    "nums =input().split() \n",
    "m = int(nums[0]) \n",
    "n = int(nums[1]) \n",
    "M = list() \n",
    "for i in range(0,m): \n",
    "    current_row_strings = input().split() \n",
    "    M.append([]) \n",
    "    for j in range(0,n): \n",
    "        M[i].append(int(current_row_strings[j])) \n",
    "\n",
    "(i,j) = matrix_max_index(M, m, n) \n",
    "print(i,j) "
   ]
  },
  {
   "cell_type": "markdown",
   "metadata": {},
   "source": [
    "# 2. Swap Columns Function"
   ]
  },
  {
   "cell_type": "code",
   "execution_count": null,
   "metadata": {},
   "outputs": [],
   "source": [
    "\n",
    "def swap_columns(M, m, n, i, j): \n",
    "    for item in M:\n",
    "        item[i],item[j] = item[j],item[i]\n",
    "    return(M)\n",
    "\n",
    "\n",
    "nums =input().split() \n",
    "m = int(nums[0]) \n",
    "n = int(nums[1]) \n",
    "M = list() \n",
    "for i in range(0,m): \n",
    "    current_row_strings = input().split() \n",
    "    M.append([]) \n",
    "    for j in range(0,n): \n",
    "        M[i].append(int(current_row_strings[j])) \n",
    "nums =input().split() \n",
    "i = int(nums[0]) \n",
    "j = int(nums[1]) \n",
    "\n",
    "swap_columns(M, m, n, i, j) \n",
    "\n",
    "for i in range(0,m): \n",
    "    for j in range(0,n): \n",
    "        if j < n-1: \n",
    "            print(M[i][j], end = ' ') \n",
    "        else: \n",
    "            print(M[i][j], end = '') \n",
    "    if i < m-1: \n",
    "        print() \n",
    "\n"
   ]
  },
  {
   "cell_type": "markdown",
   "metadata": {},
   "source": [
    "# 3. Matrix scaling function"
   ]
  },
  {
   "cell_type": "code",
   "execution_count": null,
   "metadata": {},
   "outputs": [],
   "source": [
    "\n",
    "newMatrix = []\n",
    "def scale_matrix(M, m, n, c): \n",
    "#implement the function that returns the new scaled matrix \n",
    "#where M is the matrix and (m, n), c are the numbers as above\n",
    "    for i in range(0,m):\n",
    "        newMatrix.append([])\n",
    "        for j in range(0,n):\n",
    "            newMatrix[i].append(M[i][j]*c)\n",
    "    return newMatrix\n",
    "\n",
    "\n",
    "def print_matrix(M, m, n): \n",
    "    for i in range(0,m): \n",
    "        for j in range(0,n): \n",
    "            if j < n-1: \n",
    "                print(M[i][j], end = ' ') \n",
    "            else: \n",
    "                print(M[i][j], end = '') \n",
    "            if i < m-1: \n",
    "                print() \n",
    "\n",
    "nums =input().split() \n",
    "m = int(nums[0]) \n",
    "n = int(nums[1]) \n",
    "M = list() \n",
    "\n",
    "for i in range(0,m): \n",
    "    current_row_strings = input().split() \n",
    "    M.append([]) \n",
    "    for j in range(0,n): \n",
    "        M[i].append(int(current_row_strings[j])) \n",
    "c =int(input())\n",
    "\n",
    "N = scale_matrix(M, m, n, c) \n",
    "\n",
    "print_matrix(N, m, n) \n",
    "\n",
    "print()\n",
    "\n",
    "print_matrix(M, m, n)"
   ]
  }
 ],
 "metadata": {
  "kernelspec": {
   "display_name": "Python 3",
   "language": "python",
   "name": "python3"
  },
  "language_info": {
   "codemirror_mode": {
    "name": "ipython",
    "version": 3
   },
   "file_extension": ".py",
   "mimetype": "text/x-python",
   "name": "python",
   "nbconvert_exporter": "python",
   "pygments_lexer": "ipython3",
   "version": "3.7.0"
  }
 },
 "nbformat": 4,
 "nbformat_minor": 2
}
