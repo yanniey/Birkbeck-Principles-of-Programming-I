{
 "cells": [
  {
   "cell_type": "markdown",
   "metadata": {},
   "source": [
    "# Week 5 Recursion\n",
    "\n",
    "### 1. Exponentiation"
   ]
  },
  {
   "cell_type": "code",
   "execution_count": null,
   "metadata": {},
   "outputs": [],
   "source": [
    "a = float(input())\n",
    "n = float(input())\n",
    "\n",
    "def power(a,n):\n",
    "    if a==0: return 0\n",
    "    elif a==1: return 1\n",
    "    elif n==0: return 1\n",
    "    elif n==1: return a\n",
    "    else: \n",
    "        previous_number=power(a,n-1)\n",
    "        result = previous_number * a\n",
    "        return result\n",
    "print(power(a,n))"
   ]
  },
  {
   "cell_type": "markdown",
   "metadata": {},
   "source": [
    "### 2. Recursive Sum"
   ]
  },
  {
   "cell_type": "markdown",
   "metadata": {},
   "source": [
    "We can define the sum from 1 to x (i.e., 1 + 2 + ... + x) recursively as follows for integer x ≥ 1: \n",
    "\n",
    "* 1, if x = 1\n",
    "\n",
    "* x + sum from 1 to x-1, if x > 1\n",
    "\n",
    "Write a function rec_sum(val) that computes the sum from 1 to val recursively. Note that you must not use any kind of loops in this exercise."
   ]
  },
  {
   "cell_type": "code",
   "execution_count": null,
   "metadata": {},
   "outputs": [],
   "source": [
    "def rec_sum(val):\n",
    "    if val == 1: return 1\n",
    "    else:\n",
    "        previous_sum = rec_sum(val-1)\n",
    "        result = previous_sum + val\n",
    "        return result\n",
    "        \n",
    "\n",
    "x = int(input())\n",
    "print(rec_sum(x))"
   ]
  },
  {
   "cell_type": "markdown",
   "metadata": {},
   "source": [
    "### 3. Recursive Max"
   ]
  },
  {
   "cell_type": "markdown",
   "metadata": {},
   "source": [
    "Write a recursive Python function max(lst) that has a parameter lst representing a list of integers and returns the maximum stored in the list.\n",
    "\n",
    "Thinking recursively, the maximum is either the first value in the list or the maximum of the rest of the list, whichever is larger. If the list only has one integer, then its maximum is this single value, naturally."
   ]
  },
  {
   "cell_type": "code",
   "execution_count": null,
   "metadata": {},
   "outputs": [],
   "source": [
    "def max(lst):\n",
    "    if len(lst)==1:\n",
    "        return lst[0]\n",
    "    else:\n",
    "        m = max(lst[1:])\n",
    "        return m if m > lst[0] else lst[0]\n",
    "\n",
    "x = input().split()\n",
    "print(max(x))"
   ]
  },
  {
   "cell_type": "markdown",
   "metadata": {},
   "source": [
    "### 4. Print all Strings of given length containing 0 or 1"
   ]
  },
  {
   "cell_type": "markdown",
   "metadata": {},
   "source": [
    "In this exercise, we will work with a non-fruitful recursive function. Implement such a function print_01_strings(k,s,n) that, given a string s of length k, prints all the possible 0/1 strings that are completions of s to length n in the alphanumeric order. Naturally, when print_01_strings(0,'',n) is called, all the 0/1 strings of length n will be printed."
   ]
  },
  {
   "cell_type": "code",
   "execution_count": null,
   "metadata": {},
   "outputs": [],
   "source": [
    "def print_01_strings(k,s,n):\n",
    "\tif k==n:\n",
    "\t\tprint(s)\n",
    "\telse:\n",
    "\t\tprint_01_strings(k+1, s+'0', n)\n",
    "\t\tprint_01_strings(k+1, s+'1', n)\n",
    "\n",
    "print_01_strings(0, \"\", int(input()))"
   ]
  },
  {
   "cell_type": "code",
   "execution_count": null,
   "metadata": {},
   "outputs": [],
   "source": []
  }
 ],
 "metadata": {
  "kernelspec": {
   "display_name": "Python 3",
   "language": "python",
   "name": "python3"
  },
  "language_info": {
   "codemirror_mode": {
    "name": "ipython",
    "version": 3
   },
   "file_extension": ".py",
   "mimetype": "text/x-python",
   "name": "python",
   "nbconvert_exporter": "python",
   "pygments_lexer": "ipython3",
   "version": "3.7.0"
  }
 },
 "nbformat": 4,
 "nbformat_minor": 2
}
