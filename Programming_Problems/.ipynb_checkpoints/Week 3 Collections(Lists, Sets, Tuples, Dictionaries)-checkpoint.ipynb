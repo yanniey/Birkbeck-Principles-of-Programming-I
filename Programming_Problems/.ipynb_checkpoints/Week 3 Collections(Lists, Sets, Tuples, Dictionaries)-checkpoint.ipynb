{
 "cells": [
  {
   "cell_type": "markdown",
   "metadata": {},
   "source": [
    "# Lists \n",
    "\n",
    "# 1. Even indices"
   ]
  },
  {
   "cell_type": "code",
   "execution_count": null,
   "metadata": {},
   "outputs": [],
   "source": [
    "my_list=input().split()\n",
    "\n",
    "\n",
    "li = []\n",
    "for i in range(0,len(my_list)):\n",
    "    if i %2 ==0:\n",
    "        li.append(my_list[i])\n",
    "\n",
    "print(\" \".join(li))"
   ]
  },
  {
   "cell_type": "markdown",
   "metadata": {},
   "source": [
    "# 2. Even elements"
   ]
  },
  {
   "cell_type": "code",
   "execution_count": null,
   "metadata": {},
   "outputs": [],
   "source": [
    "ml = input().split()\n",
    "\n",
    "for i in ml:\n",
    "    if int(i)%2==0:\n",
    "        print(i)\n",
    "        "
   ]
  },
  {
   "cell_type": "markdown",
   "metadata": {},
   "source": [
    "# 3. Greater than previous"
   ]
  },
  {
   "cell_type": "code",
   "execution_count": null,
   "metadata": {},
   "outputs": [],
   "source": [
    "ml=input().split()\n",
    "li=[]\n",
    "\n",
    "for i in range(1,len(ml)):\n",
    "    if int(ml[i])>int(ml[i-1]):\n",
    "        li.append(ml[i])\n",
    "        print(ml[i])"
   ]
  },
  {
   "cell_type": "markdown",
   "metadata": {},
   "source": [
    "# 4. Neighbors of the same sign"
   ]
  },
  {
   "cell_type": "code",
   "execution_count": null,
   "metadata": {},
   "outputs": [],
   "source": [
    "n = list(map(int,input().split()))\n",
    "l = []\n",
    "for i in range(0,len(n)-1):\n",
    "    if n[i] * n[i+1]>0:\n",
    "      l.append(n[i])\n",
    "      l.append(i)\n",
    "if not l:\n",
    "    pass\n",
    "else:\n",
    "    print(l[0],n[l[1]+1])"
   ]
  },
  {
   "cell_type": "markdown",
   "metadata": {},
   "source": [
    "# 5. Greater than neighbours"
   ]
  },
  {
   "cell_type": "code",
   "execution_count": null,
   "metadata": {},
   "outputs": [],
   "source": [
    "n = list(map(str,input().split()))\n",
    "l=[]\n",
    "for i in range(1,len(n)-1):\n",
    "    if n[i]> n[i-1] and n[i]>n[i+1]:\n",
    "        l.append(n[i])\n",
    "if not l:\n",
    "    print(0)\n",
    "else:\n",
    "    print(len(l))"
   ]
  },
  {
   "cell_type": "markdown",
   "metadata": {},
   "source": [
    "# 6. The largest element"
   ]
  },
  {
   "cell_type": "code",
   "execution_count": null,
   "metadata": {},
   "outputs": [],
   "source": [
    "inputs = list(map(int,input().split()))\n",
    "largest = max(inputs)\n",
    "print(largest)\n",
    "print(inputs.index(largest))"
   ]
  },
  {
   "cell_type": "markdown",
   "metadata": {},
   "source": [
    "# 7. The number of distinct elements"
   ]
  },
  {
   "cell_type": "code",
   "execution_count": null,
   "metadata": {},
   "outputs": [],
   "source": [
    "n = list(map(int,input().split()))\n",
    "print(len(set(n)))"
   ]
  },
  {
   "cell_type": "markdown",
   "metadata": {},
   "source": [
    "# 8. Swap neighbours"
   ]
  },
  {
   "cell_type": "code",
   "execution_count": null,
   "metadata": {},
   "outputs": [],
   "source": [
    "n = list(map(int,input().split()))\n",
    "\n",
    "\n",
    "for i in range(1,len(n)):\n",
    "    if i%2!=0:\n",
    "        placeholder =n[i]\n",
    "        n[i] = n[i-1]\n",
    "        n[i-1]=placeholder\n",
    "\n",
    "for j in n:\n",
    "    print(j)"
   ]
  },
  {
   "cell_type": "markdown",
   "metadata": {},
   "source": [
    "# 9. Swap min and max"
   ]
  },
  {
   "cell_type": "code",
   "execution_count": null,
   "metadata": {},
   "outputs": [],
   "source": [
    "n = list(map(int,input().split()))\n",
    "\n",
    "\n",
    "biggest = max(n)\n",
    "biggest_index = n.index(biggest)\n",
    "smallest = min(n)\n",
    "smallest_index = n.index(smallest)\n",
    "\n",
    "placeholder = n[n.index(biggest)]\n",
    "\n",
    "n[biggest_index] = smallest\n",
    "n[smallest_index]=placeholder\n",
    "\n",
    "for i in n:\n",
    "    print(i)"
   ]
  },
  {
   "cell_type": "markdown",
   "metadata": {},
   "source": [
    "# Strings"
   ]
  },
  {
   "cell_type": "markdown",
   "metadata": {},
   "source": [
    "# 1. Statement"
   ]
  },
  {
   "cell_type": "code",
   "execution_count": null,
   "metadata": {},
   "outputs": [],
   "source": [
    "n = input()\n",
    "print(n[2])\n",
    "print(n[-2])\n",
    "print(n[:5])\n",
    "print(n[:-2])\n",
    "print(n[::2])\n",
    "print(n[1::2])\n",
    "print(n[::-1])\n",
    "print(n[::-2])\n",
    "print(len(n))"
   ]
  },
  {
   "cell_type": "markdown",
   "metadata": {},
   "source": [
    "# 2. The number of words"
   ]
  },
  {
   "cell_type": "code",
   "execution_count": null,
   "metadata": {},
   "outputs": [],
   "source": [
    "n=list(input().split())\n",
    "print(len(n))"
   ]
  },
  {
   "cell_type": "markdown",
   "metadata": {},
   "source": [
    "# 3. The first and last occurance"
   ]
  },
  {
   "cell_type": "code",
   "execution_count": null,
   "metadata": {},
   "outputs": [],
   "source": [
    "import re\n",
    "n = input()\n",
    "m=[m.start() for m in re.finditer('f', n)]\n",
    "\n",
    "if not m:\n",
    "    print()\n",
    "elif len(m)==1:\n",
    "    print(m[0])\n",
    "else:\n",
    "    print(m[0],m[-1])\n"
   ]
  },
  {
   "cell_type": "markdown",
   "metadata": {},
   "source": [
    "# 4. Reverse the fragment"
   ]
  },
  {
   "cell_type": "code",
   "execution_count": null,
   "metadata": {},
   "outputs": [],
   "source": [
    "import re\n",
    "n = input()\n",
    "m=[m.start() for m in re.finditer('h', n)]\n",
    "\n",
    "for i in range(m[0],m[-1]):\n",
    "    new = n[m[-1]:m[0]:-1]\n",
    "word = n[:m[0]]+new+n[m[-1]:]\n",
    "print(word)"
   ]
  },
  {
   "cell_type": "markdown",
   "metadata": {},
   "source": [
    "# Sets"
   ]
  },
  {
   "cell_type": "markdown",
   "metadata": {},
   "source": [
    "# 1. The number of distinctive numbers"
   ]
  },
  {
   "cell_type": "code",
   "execution_count": null,
   "metadata": {},
   "outputs": [],
   "source": [
    "print(len(set(input()))-1)"
   ]
  },
  {
   "cell_type": "markdown",
   "metadata": {},
   "source": [
    "# 2. The number of equal numbers"
   ]
  },
  {
   "cell_type": "code",
   "execution_count": null,
   "metadata": {},
   "outputs": [],
   "source": [
    "n=input().split()\n",
    "m=input().split()\n",
    "print(len(set(n).intersection(m)))"
   ]
  },
  {
   "cell_type": "markdown",
   "metadata": {},
   "source": [
    "# 3. The intersection of sets"
   ]
  },
  {
   "cell_type": "code",
   "execution_count": null,
   "metadata": {},
   "outputs": [],
   "source": [
    "n=input().split()\n",
    "m=input().split()\n",
    "common = list(map(int,list(set(n).intersection(m))))\n",
    "common.sort()\n",
    "[print(a) for a in common]\n"
   ]
  },
  {
   "cell_type": "markdown",
   "metadata": {},
   "source": [
    "# 4. Guess the number"
   ]
  },
  {
   "cell_type": "code",
   "execution_count": null,
   "metadata": {},
   "outputs": [],
   "source": [
    "n = int(input())\n",
    "nums = set(range(1, n + 1))\n",
    "\n",
    "\n",
    "while True:\n",
    "    guess = input().split()\n",
    "    if guess[0] == 'HELP':\n",
    "        break\n",
    "    guess = set(int(x) for x in guess)\n",
    "    answer = input()\n",
    "    if answer == 'YES':\n",
    "        nums &= guess\n",
    "    else:\n",
    "        nums &= nums - guess\n",
    "\n",
    "for i in nums:\n",
    "    print(i)\n"
   ]
  },
  {
   "cell_type": "markdown",
   "metadata": {},
   "source": [
    "# Dictionaries"
   ]
  },
  {
   "cell_type": "markdown",
   "metadata": {},
   "source": [
    "# 1. Number of occurances"
   ]
  },
  {
   "cell_type": "code",
   "execution_count": null,
   "metadata": {},
   "outputs": [],
   "source": [
    "from collections import Counter\n",
    "n=list(input().split())\n",
    "\n",
    "for i in range(0,len(n)):\n",
    "    c= Counter(n[:i])\n",
    "    print(c[n[i]])\n"
   ]
  },
  {
   "cell_type": "markdown",
   "metadata": {},
   "source": [
    "# 2. Dictionary of synonyms"
   ]
  },
  {
   "cell_type": "code",
   "execution_count": null,
   "metadata": {},
   "outputs": [],
   "source": [
    "n=int(input())\n",
    "pair=dict()\n",
    "\n",
    "for i in range(n,0,-1):\n",
    "    m=input().split()\n",
    "    key=m[0]\n",
    "    value = m[1]\n",
    "    pair[key]=value\n",
    "\n",
    "m = input()\n",
    "\n",
    "def find_key(input_dict, value):\n",
    "    return next((k for k, v in input_dict.items() if v == value), None)\n",
    "    \n",
    "if m in pair.keys():\n",
    "    print(pair[m])\n",
    "else:\n",
    "    print(find_key(pair,m))\n"
   ]
  },
  {
   "cell_type": "markdown",
   "metadata": {},
   "source": [
    "# 3. Access rights"
   ]
  },
  {
   "cell_type": "code",
   "execution_count": null,
   "metadata": {},
   "outputs": [],
   "source": [
    "N = int(input())\n",
    "d = {}\n",
    "d2={}\n",
    "for i in range(N):\n",
    "    line = input().split()\n",
    "    length = len(line)\n",
    "    for j in range(length):\n",
    "        d[line[0]]=line[1:]\n",
    "        \n",
    "        \n",
    "M=int(input())\n",
    "for x in range(M):\n",
    "    files = input().split()\n",
    "    document = files[1]\n",
    "    action = files[0]\n",
    "    if action == \"read\":\n",
    "        if document in d and \"R\" in d[document] :\n",
    "            print(\"OK\")\n",
    "        else:\n",
    "            print(\"Access denied\")\n",
    "    elif action ==\"write\":\n",
    "        if document in d and \"W\" in d[document]:\n",
    "            print(\"OK\")\n",
    "        else:\n",
    "            print(\"Access denied\")\n",
    "    elif action==\"execute\":\n",
    "        if document in d and \"X\" in d[document]:\n",
    "            print(\"OK\")\n",
    "        else:\n",
    "            print(\"Access denied\")\n",
    "      "
   ]
  },
  {
   "cell_type": "markdown",
   "metadata": {},
   "source": [
    "# 4. Frequency Analysis"
   ]
  },
  {
   "cell_type": "code",
   "execution_count": null,
   "metadata": {},
   "outputs": [],
   "source": [
    "from collections import Counter\n",
    "from operator import itemgetter\n",
    "n=int(input())\n",
    "l=[]\n",
    "for i in range(n):\n",
    "    word = input().split()\n",
    "    length = len(word)\n",
    "    for j in range(length):\n",
    "        l.append(word[j])\n",
    "\n",
    "\n",
    "c = Counter(l)\n",
    "\n",
    "s = sorted(c.items(), key = lambda t:(-t[1],t[0]))\n",
    "\n",
    "\n",
    "for x in s:\n",
    "    print(x[0])"
   ]
  }
 ],
 "metadata": {
  "kernelspec": {
   "display_name": "Python 3",
   "language": "python",
   "name": "python3"
  },
  "language_info": {
   "codemirror_mode": {
    "name": "ipython",
    "version": 3
   },
   "file_extension": ".py",
   "mimetype": "text/x-python",
   "name": "python",
   "nbconvert_exporter": "python",
   "pygments_lexer": "ipython3",
   "version": "3.7.0"
  }
 },
 "nbformat": 4,
 "nbformat_minor": 2
}
