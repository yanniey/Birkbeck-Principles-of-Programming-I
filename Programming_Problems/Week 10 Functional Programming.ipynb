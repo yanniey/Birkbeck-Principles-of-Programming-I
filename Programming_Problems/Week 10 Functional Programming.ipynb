{
 "cells": [
  {
   "cell_type": "markdown",
   "metadata": {},
   "source": [
    "## 1. List of combined pairs"
   ]
  },
  {
   "cell_type": "markdown",
   "metadata": {},
   "source": [
    "Given an ordered list X of distinct ints and analogous list Y, construct the list of all pairs (x,y) such that x is from X, y from Y, and x < y. The resulting list must be ordered so that the pairs with the smaller x go first and among the pairs that have the same x, the ones with the smaller y go first (see examples in the test cases)\n",
    "\n",
    "Hint: after you read X and Y from input, you can construct the required list by one line of code using list comprehensions. Any solution will do, but try to find this one"
   ]
  },
  {
   "cell_type": "code",
   "execution_count": null,
   "metadata": {},
   "outputs": [],
   "source": [
    "import itertools\n",
    "list1=list(map(int,input().split()))\n",
    "list2=list(map(int,input().split()))\n",
    "\n",
    "all = list(itertools.product(list1,list2))\n",
    "\n",
    "for i in range(len(all)):\n",
    "    if all[i][0]<all[i][1]:\n",
    "        #print(all[i])\n",
    "        print(' '.join(map(str, all[i])))\n",
    "        "
   ]
  },
  {
   "cell_type": "markdown",
   "metadata": {},
   "source": [
    "## 2. Squared Mapping"
   ]
  },
  {
   "cell_type": "markdown",
   "metadata": {},
   "source": [
    "Given lists of integer objects X = [x1, .., xn] and Y = [y1,..., yn], produce an iterator to the sequence (x1*x1, y1), (x2*x2, y2), ... (xn*xn, yn). Produce a program that does not introduce any (materialized) collections apart from X and Y introduced by us. \n",
    "Hint Use generator expressions and zip function. If you struggle to solve the problem without introducing new collections, feel free remove this requirement"
   ]
  },
  {
   "cell_type": "code",
   "execution_count": 2,
   "metadata": {},
   "outputs": [
    {
     "ename": "SyntaxError",
     "evalue": "invalid syntax (<ipython-input-2-11de965d696f>, line 5)",
     "output_type": "error",
     "traceback": [
      "\u001b[0;36m  File \u001b[0;32m\"<ipython-input-2-11de965d696f>\"\u001b[0;36m, line \u001b[0;32m5\u001b[0m\n\u001b[0;31m    it = #produce the required iterator\u001b[0m\n\u001b[0m                                       ^\u001b[0m\n\u001b[0;31mSyntaxError\u001b[0m\u001b[0;31m:\u001b[0m invalid syntax\n"
     ]
    }
   ],
   "source": [
    "X = [int(x) for x in input().split()]\n",
    "Y = [int(x) for x in input().split()]\n",
    "# your implementation starts here\n",
    "#...\n",
    "it = #produce the required iterator\n",
    "#your implementation ends here\n",
    "for x in it: print(x[0], x[1])"
   ]
  },
  {
   "cell_type": "markdown",
   "metadata": {},
   "source": [
    "## 3. Matrix Comprehension"
   ]
  },
  {
   "cell_type": "markdown",
   "metadata": {},
   "source": [
    "Read two positive integer numbers m and n from input. Then, construct a matrix with m rows and n columns such that at each position (i,j) of this matrix, we have the number i+j.\n",
    "\n",
    "Implement your solution using the pattern below. Use a single list comprehension expression to create the required matrix."
   ]
  },
  {
   "cell_type": "code",
   "execution_count": 3,
   "metadata": {},
   "outputs": [
    {
     "ename": "SyntaxError",
     "evalue": "invalid syntax (<ipython-input-3-e2b6e50678d5>, line 2)",
     "output_type": "error",
     "traceback": [
      "\u001b[0;36m  File \u001b[0;32m\"<ipython-input-3-e2b6e50678d5>\"\u001b[0;36m, line \u001b[0;32m2\u001b[0m\n\u001b[0;31m    M = #insert your list comprehension expression here\u001b[0m\n\u001b[0m                                                       ^\u001b[0m\n\u001b[0;31mSyntaxError\u001b[0m\u001b[0;31m:\u001b[0m invalid syntax\n"
     ]
    }
   ],
   "source": [
    "def create_matrix(m,n):\n",
    "    M = #insert your list comprehension expression here\n",
    "    return M\n",
    "\n",
    "#NO modifications below this line\n",
    "inp = input().split()\n",
    "m,n = int(inp[0]), int(inp[1])\n",
    "M = create_matrix(m,n)\n",
    "print(M)"
   ]
  },
  {
   "cell_type": "markdown",
   "metadata": {},
   "source": [
    "## 4. Higher Order Functions"
   ]
  },
  {
   "cell_type": "markdown",
   "metadata": {},
   "source": [
    "Suppose f is a function that takes a character (string of length 1) as an argument and returns a character. Define a higher order function stringify that takes f as an argument and returns another function F such that:\n",
    "\n",
    "F takes a string s as an argument\n",
    "F returns a string which is equal to f(s[0])f(s[1])...f(s[n])\n",
    "Your solution must follow the patter below. Note that in the input we provide the string s on which F will be tested (first line) and the function f itself (the other lines). Hint: Look at the function vectorize in the lecture slides for a model solution."
   ]
  },
  {
   "cell_type": "code",
   "execution_count": null,
   "metadata": {},
   "outputs": [],
   "source": [
    "def stringify(f):\n",
    "    #implement this higher order function\n",
    "\n",
    "#NO changes below this line\n",
    "import sys\n",
    "s = input()\n",
    "complete_in = sys.stdin.read()\n",
    "exec(complete_in)\n",
    "F = stringify(f)\n",
    "print(F(s))"
   ]
  },
  {
   "cell_type": "code",
   "execution_count": null,
   "metadata": {},
   "outputs": [],
   "source": []
  }
 ],
 "metadata": {
  "kernelspec": {
   "display_name": "Python 3",
   "language": "python",
   "name": "python3"
  },
  "language_info": {
   "codemirror_mode": {
    "name": "ipython",
    "version": 3
   },
   "file_extension": ".py",
   "mimetype": "text/x-python",
   "name": "python",
   "nbconvert_exporter": "python",
   "pygments_lexer": "ipython3",
   "version": "3.7.0"
  }
 },
 "nbformat": 4,
 "nbformat_minor": 2
}
